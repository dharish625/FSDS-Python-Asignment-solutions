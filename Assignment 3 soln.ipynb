{
 "cells": [
  {
   "cell_type": "markdown",
   "id": "721df8e3",
   "metadata": {},
   "source": [
    "# Assignment 3 solutions"
   ]
  },
  {
   "cell_type": "markdown",
   "id": "4e683341",
   "metadata": {},
   "source": [
    "1. Why are functions advantageous to have in your programs?\n",
    "\n",
    "Functions, once defined can be used repeatedly without writing the code several times. Thus program can be made shorter and easier to read. Errors can be identified and corrected in short time."
   ]
  },
  {
   "cell_type": "markdown",
   "id": "a1e3d4a3",
   "metadata": {},
   "source": [
    "2. When does the code in a function run: when it's specified or when it's called?\n",
    "\n",
    "The code in a function is executed when it's called. Defining a function doesn't produce any value."
   ]
  },
  {
   "cell_type": "markdown",
   "id": "d1a925f6",
   "metadata": {},
   "source": [
    "3. What statement creates a function?\n",
    "\n",
    "def statement is used to create (define) a function."
   ]
  },
  {
   "cell_type": "markdown",
   "id": "9293c549",
   "metadata": {},
   "source": [
    "4. What is the difference between a function and a function call?\n",
    "\n",
    "A function contains a code within the def statement,that is supposed to perform when executed. \n",
    "A function call is a statement to run or execute the function defined to produce a certain value according to the code."
   ]
  },
  {
   "cell_type": "markdown",
   "id": "3f90a9ac",
   "metadata": {},
   "source": [
    "5. How many global scopes are there in a Python program? How many local scopes?\n",
    "\n",
    "There is only one global scope and several(one or more) local scopes in a python program."
   ]
  },
  {
   "cell_type": "markdown",
   "id": "2d4b98aa",
   "metadata": {},
   "source": [
    "6. What happens to variables in a local scope when the function call returns?\n",
    "\n",
    "When the function call returns, the variable in a local scope no longer exists as the local scope is destroyed."
   ]
  },
  {
   "cell_type": "markdown",
   "id": "d46b7763",
   "metadata": {},
   "source": [
    "7. What is the concept of a return value? Is it possible to have a return value in an expression?\n",
    "\n",
    "A return value is the output given after a function is executed. This value is stored in the computer's memory thus making it possible to use this in any expression."
   ]
  },
  {
   "cell_type": "markdown",
   "id": "0d9c2081",
   "metadata": {},
   "source": [
    "8. If a function does not have a return statement, what is the return value of a call to that function?\n",
    "\n",
    "None is produced as a return value of that function."
   ]
  },
  {
   "cell_type": "markdown",
   "id": "b72728ec",
   "metadata": {},
   "source": [
    "9. How do you make a function variable refer to the global variable?\n",
    "\n",
    "if there is no value assigned to the variable inside a function, then it becomes a global variable."
   ]
  },
  {
   "cell_type": "markdown",
   "id": "60e662d4",
   "metadata": {},
   "source": [
    "10. What is the data type of None?\n",
    "\n",
    "None belongs to the class NoneType."
   ]
  },
  {
   "cell_type": "markdown",
   "id": "cbe82643",
   "metadata": {},
   "source": [
    "11. What does the sentence import areallyourpetsnamederic do?\n",
    "\n",
    "It imports a module named 'areallyourpetsnamederic' from the pyhton."
   ]
  },
  {
   "cell_type": "markdown",
   "id": "3b43d4a2",
   "metadata": {},
   "source": [
    "12. If you had a bacon() feature in a spam module, what would you call it after importing spam?\n",
    "\n",
    "It can be called using spam.bacon()"
   ]
  },
  {
   "cell_type": "markdown",
   "id": "40f641ce",
   "metadata": {},
   "source": [
    "13. What can you do to save a programme from crashing if it encounters an error?\n",
    "\n",
    "A program can be saved from crashing by using Try clause and placing the code that can cause error into the Try block."
   ]
  },
  {
   "cell_type": "markdown",
   "id": "4bb0bd55",
   "metadata": {},
   "source": [
    "14. What is the purpose of the try clause? What is the purpose of the except clause?\n",
    "\n",
    "The try clause contains the code that might cause an exception.\n",
    "\n",
    "The except clause contains the code that will be executed if an exception is raised."
   ]
  }
 ],
 "metadata": {
  "kernelspec": {
   "display_name": "Python 3 (ipykernel)",
   "language": "python",
   "name": "python3"
  },
  "language_info": {
   "codemirror_mode": {
    "name": "ipython",
    "version": 3
   },
   "file_extension": ".py",
   "mimetype": "text/x-python",
   "name": "python",
   "nbconvert_exporter": "python",
   "pygments_lexer": "ipython3",
   "version": "3.9.12"
  }
 },
 "nbformat": 4,
 "nbformat_minor": 5
}
