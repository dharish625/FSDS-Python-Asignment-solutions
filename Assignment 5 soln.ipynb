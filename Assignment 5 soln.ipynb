{
 "cells": [
  {
   "cell_type": "markdown",
   "id": "6344277c",
   "metadata": {},
   "source": [
    "# Assignment 5 solutions"
   ]
  },
  {
   "cell_type": "markdown",
   "id": "ff168fe7",
   "metadata": {},
   "source": [
    "1. What does an empty dictionary's code look like?\n",
    "\n",
    "an empty dictionary with no key value pairs i.e., {}."
   ]
  },
  {
   "cell_type": "markdown",
   "id": "5374514b",
   "metadata": {},
   "source": [
    "2. What is the value of a dictionary value with the key 'foo' and the value 42?\n",
    "\n",
    "{'foo':42}"
   ]
  },
  {
   "cell_type": "markdown",
   "id": "3e70945e",
   "metadata": {},
   "source": [
    "3. What is the most significant distinction between a dictionary and a list?\n",
    "\n",
    "a dictionary is an unordered arrangement of key value pairs, whereas list is an ordered arrangement of objects or values."
   ]
  },
  {
   "cell_type": "markdown",
   "id": "ce4a76b9",
   "metadata": {},
   "source": [
    "4. What happens if you try to access spam['foo'] if spam is {'bar': 100}?\n",
    "\n",
    "Results in an error showing KeyError"
   ]
  },
  {
   "cell_type": "markdown",
   "id": "3b72d114",
   "metadata": {},
   "source": [
    "5. If a dictionary is stored in spam, what is the difference between the expressions 'cat' in spam and 'cat' in spam.keys()?\n",
    "\n",
    "There is no difference in the results of the above expressions. Both result in the same boolean value(either True or False), depending on whether 'cat' exists as key or not in the dictionary."
   ]
  },
  {
   "cell_type": "markdown",
   "id": "8592bf31",
   "metadata": {},
   "source": [
    "6. If a dictionary is stored in spam, what is the difference between the expressions 'cat' in spam and 'cat' in spam.values()?\n",
    "\n",
    "The above expressions may reult in two different boolean values. Beacause 'cat' in spam looks for 'cat' as key in the dictionary, whereas 'cat' in spam.values() looks for 'cat' as value in the dictionary."
   ]
  },
  {
   "cell_type": "markdown",
   "id": "f726cf1f",
   "metadata": {},
   "source": [
    "7. What is a shortcut for the following code?\n",
    "\n",
    "if 'color' not in spam:\n",
    "\n",
    "spam['color'] = 'black'\n",
    "\n",
    "shortcut is \n",
    "\n",
    "spam.setdefault('color', 'black')"
   ]
  },
  {
   "cell_type": "markdown",
   "id": "db04f210",
   "metadata": {},
   "source": [
    "8. How do you \"pretty print\" dictionary values using which module and function?\n",
    "\n",
    "A function called pprint() has to be imported from pprint Python module using : from pprint import pprint\n",
    "\n",
    "and execute using the code: pprint.pprint()"
   ]
  }
 ],
 "metadata": {
  "kernelspec": {
   "display_name": "Python 3 (ipykernel)",
   "language": "python",
   "name": "python3"
  },
  "language_info": {
   "codemirror_mode": {
    "name": "ipython",
    "version": 3
   },
   "file_extension": ".py",
   "mimetype": "text/x-python",
   "name": "python",
   "nbconvert_exporter": "python",
   "pygments_lexer": "ipython3",
   "version": "3.9.12"
  }
 },
 "nbformat": 4,
 "nbformat_minor": 5
}
