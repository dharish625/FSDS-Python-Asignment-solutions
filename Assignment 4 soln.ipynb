{
 "cells": [
  {
   "cell_type": "markdown",
   "id": "6ae3f933",
   "metadata": {},
   "source": [
    "# Assignment 4 solutions"
   ]
  },
  {
   "cell_type": "markdown",
   "id": "0869d2cb",
   "metadata": {},
   "source": [
    "1. What exactly is []?\n",
    "\n",
    "[] is an empty list i.e., list with no objects in it."
   ]
  },
  {
   "cell_type": "markdown",
   "id": "e6e77ec3",
   "metadata": {},
   "source": [
    "2. In a list of values stored in a variable called spam, how would you assign the value 'hello' as the third value? \n",
    "(Assume [2, 4, 6, 8, 10] are in spam.)\n",
    "\n",
    "third value is 6, i.e., at index 2. Using the properties of list, 'hello' can be assigned as:\n",
    "\n",
    "spam[2] = 'hello'"
   ]
  },
  {
   "cell_type": "markdown",
   "id": "3b6e41dc",
   "metadata": {},
   "source": [
    "Let's pretend the spam includes the list ['a', 'b', 'c', 'd'] for the next three queries."
   ]
  },
  {
   "cell_type": "markdown",
   "id": "0ed381d1",
   "metadata": {},
   "source": [
    "3. What is the value of spam[int(int('3' * 2) / 11)]?\n",
    "\n",
    "'3'*2 is '33', 33/11 is 3. Finally spam[int(int('3' * 2) / 11)] is spam[3]\n",
    "\n",
    "spam[3] = d (index 3 is fourth position in the list)."
   ]
  },
  {
   "cell_type": "markdown",
   "id": "909f3a53",
   "metadata": {},
   "source": [
    "4. What is the value of spam[-1]?\n",
    "\n",
    "spam[-1] = d (index -1 is last position in the list)"
   ]
  },
  {
   "cell_type": "markdown",
   "id": "1ee159b1",
   "metadata": {},
   "source": [
    "5. What is the value of spam[:2]?\n",
    "\n",
    "spam[:2] = [a,b]  (produces list from begining to index 1)"
   ]
  },
  {
   "cell_type": "markdown",
   "id": "df673ba3",
   "metadata": {},
   "source": [
    "Let's pretend bacon has the list [3.14, 'cat,' 11, 'cat,' True] for the next three questions."
   ]
  },
  {
   "cell_type": "markdown",
   "id": "ed58aa85",
   "metadata": {},
   "source": [
    "6. What is the value of bacon.index('cat')?\n",
    "\n",
    "bacon.index('cat') is 1 (gives the index position where the object first appeared)"
   ]
  },
  {
   "cell_type": "markdown",
   "id": "f52957ef",
   "metadata": {},
   "source": [
    "7. How does bacon.append(99) change the look of the list value in bacon?\n",
    "\n",
    "[3.14, 'cat', 11, 'cat', True, 99] (append() adds the object to the end of the list.)"
   ]
  },
  {
   "cell_type": "markdown",
   "id": "4ba98b99",
   "metadata": {},
   "source": [
    "8. How does bacon.remove('cat') change the look of the list in bacon?\n",
    "\n",
    "[3.14, 11, 'cat', True] (In case of duplicate elements, first appearing element is removed from the list.)"
   ]
  },
  {
   "cell_type": "markdown",
   "id": "5979f3b5",
   "metadata": {},
   "source": [
    "9. What are the list concatenation and list replication operators?\n",
    "\n",
    " the operator for list concatenation is + whereas the operator for list replication is *"
   ]
  },
  {
   "cell_type": "markdown",
   "id": "4bad8b3b",
   "metadata": {},
   "source": [
    "10. What is difference between the list methods append() and insert()?\n",
    "\n",
    "append() adds an object at the end of the list, whereas insert() adds an object to the list at an index provided with the function."
   ]
  },
  {
   "cell_type": "markdown",
   "id": "dd1a0f2b",
   "metadata": {},
   "source": [
    "11. What are the two methods for removing items from a list?\n",
    "\n",
    "items can be removed from a list using del statement and pop() funtion."
   ]
  },
  {
   "cell_type": "markdown",
   "id": "f95b7921",
   "metadata": {},
   "source": [
    "12. Describe how list values and string values are identical.\n",
    "\n",
    "list and string have some common properties like indexing, slicing, concatenation etc..\n",
    "\n",
    "So some functions like len(), indexing, slicing, concatenation and for loops are identical for list values and string values."
   ]
  },
  {
   "cell_type": "markdown",
   "id": "209863c3",
   "metadata": {},
   "source": [
    "13. What's the difference between tuples and lists?\n",
    "\n",
    "tuples and lists differ in two properties.\n",
    "\n",
    "in a tuple, objects are enclosed in parenthesis i.e.,(), whereas in a list, objects are enclosed in square brackets i.e., [].\n",
    "\n",
    "tuples are immutable whereas lists are mutable."
   ]
  },
  {
   "cell_type": "markdown",
   "id": "b2729d40",
   "metadata": {},
   "source": [
    "14. How do you type a tuple value that only contains the integer 42?\n",
    "\n",
    "(42,)"
   ]
  },
  {
   "cell_type": "markdown",
   "id": "1a34429c",
   "metadata": {},
   "source": [
    "15. How do you get a list value's tuple form? How do you get a tuple value's list form?\n",
    "\n",
    "list can be converted to tuple by using tuple() function.\n",
    "\n",
    "tuple can be converted to list by using list() function."
   ]
  },
  {
   "cell_type": "markdown",
   "id": "a9d10ae7",
   "metadata": {},
   "source": [
    "16. Variables that \"contain\" list values are not necessarily lists themselves. Instead, what do they contain?\n",
    "\n",
    "Those variables can be representation of the list, for example by using the indexation of the list."
   ]
  },
  {
   "cell_type": "markdown",
   "id": "8c7ca88e",
   "metadata": {},
   "source": [
    "17. How do you distinguish between copy.copy() and copy.deepcopy()?\n",
    "\n",
    "copy.copy() does the shallow copy of a list whereas copy.deepcopy() does the deep copy i.e., duplicate any lists inside a list."
   ]
  }
 ],
 "metadata": {
  "kernelspec": {
   "display_name": "Python 3 (ipykernel)",
   "language": "python",
   "name": "python3"
  },
  "language_info": {
   "codemirror_mode": {
    "name": "ipython",
    "version": 3
   },
   "file_extension": ".py",
   "mimetype": "text/x-python",
   "name": "python",
   "nbconvert_exporter": "python",
   "pygments_lexer": "ipython3",
   "version": "3.9.12"
  }
 },
 "nbformat": 4,
 "nbformat_minor": 5
}
