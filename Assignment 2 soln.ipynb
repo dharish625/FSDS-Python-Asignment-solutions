{
 "cells": [
  {
   "cell_type": "markdown",
   "id": "a61358ff",
   "metadata": {},
   "source": [
    "# Assignment 2 solutions"
   ]
  },
  {
   "cell_type": "markdown",
   "id": "f0660b0c",
   "metadata": {},
   "source": [
    "1.What are the two values of the Boolean data type? How do you write them?\n",
    "\n",
    "True and False are the two values of the Boolean data type. They are written with T and F as capital letters while others are in small letters as below.\n",
    "\n",
    "True\n",
    "\n",
    "False"
   ]
  },
  {
   "cell_type": "markdown",
   "id": "527e32c7",
   "metadata": {},
   "source": [
    "2. What are the three different types of Boolean operators?\n",
    "\n",
    "And, or and not are the three different types of Boolean operators."
   ]
  },
  {
   "cell_type": "markdown",
   "id": "b510fe03",
   "metadata": {},
   "source": [
    "3. Make a list of each Boolean operator's truth tables (i.e. every possible combination of Boolean values for the operator and what it evaluate ).\n",
    "\n",
    "and operator truth table:\n",
    "\n",
    "True and True ---> True\n",
    "\n",
    "True and False ---> False\n",
    "\n",
    "False and True ---> False\n",
    "\n",
    "False and False ---> False\n",
    "\n",
    "or operator truth table:\n",
    "\n",
    "True or True ---> True\n",
    "\n",
    "True or False ---> True\n",
    "\n",
    "False or True ---> True\n",
    "\n",
    "False or False ---> False\n",
    "\n",
    "not operator truth table:\n",
    "\n",
    "not True ---> False\n",
    "\n",
    "not False ---> True"
   ]
  },
  {
   "cell_type": "markdown",
   "id": "e6d7ea5e",
   "metadata": {},
   "source": [
    "4. What are the values of the following expressions?\n",
    "\n",
    "(5 > 4) and (3 == 5) ---> False\n",
    "\n",
    "not (5 > 4) ---> False\n",
    "\n",
    "(5 > 4) or (3 == 5) ---> True\n",
    "\n",
    "not ((5 > 4) or (3 == 5)) ---> False\n",
    "\n",
    "(True and True) and (True == False) ---> False\n",
    "\n",
    "(not False) or (not True) ---> True\n"
   ]
  },
  {
   "cell_type": "raw",
   "id": "b278ef3c",
   "metadata": {},
   "source": [
    "5. What are the six comparison operators?\n",
    "\n",
    "== ---> equal to\n",
    "\n",
    "!= ---> not equal to\n",
    "\n",
    ">  ---> greater than\n",
    "\n",
    "<  ---> less than\n",
    "\n",
    ">=  ---> greater than or equal to\n",
    "\n",
    "<=  ---> less than or equal to"
   ]
  },
  {
   "cell_type": "markdown",
   "id": "f4cf776b",
   "metadata": {},
   "source": [
    "6. How do you tell the difference between the equal to and assignment operators?Describe a condition and when you would use one.\n",
    "\n",
    "== is the equal to operator used to compare between two values.\n",
    "\n",
    "= is the assignment operator used to store a value in a variable.\n",
    "\n"
   ]
  },
  {
   "cell_type": "raw",
   "id": "26ba30b0",
   "metadata": {},
   "source": [
    "7. Identify the three blocks in this code:\n",
    "spam = 0\n",
    "if spam == 10:\n",
    "    print('eggs')\n",
    "    if spam > 5:\n",
    "        print('bacon')\n",
    "    else:\n",
    "        print('ham')\n",
    "    print('spam')\n",
    "print('spam')\n",
    "\n",
    "1st block is the code containing after the first indentation to the end of it.\n",
    "\n",
    "print('eggs')\n",
    "    if spam > 5:\n",
    "        print('bacon')\n",
    "    else:\n",
    "        print('ham')\n",
    "    print('spam')\n",
    "\n",
    "2nd block is within the 1st block and after the second indentation\n",
    "\n",
    "print('bacon')\n",
    "\n",
    "3rd block is within the 1st block and after the third indentation\n",
    "\n",
    "print('spam')\n"
   ]
  },
  {
   "cell_type": "markdown",
   "id": "3502bda1",
   "metadata": {},
   "source": [
    "8. Write code that prints Hello if 1 is stored in spam, prints Howdy if 2 is stored in spam, and prints Greetings! if anything else is stored in spam."
   ]
  },
  {
   "cell_type": "code",
   "execution_count": 3,
   "id": "311dadce",
   "metadata": {},
   "outputs": [
    {
     "name": "stdout",
     "output_type": "stream",
     "text": [
      "Greetings!\n"
     ]
    }
   ],
   "source": [
    "spam = 10\n",
    "if spam == 1:\n",
    "    print ('Hello')\n",
    "elif spam==2:\n",
    "    print ('Howdy')\n",
    "else:\n",
    "    print ('Greetings!')\n"
   ]
  },
  {
   "cell_type": "markdown",
   "id": "0a239690",
   "metadata": {},
   "source": [
    "9.If your programme is stuck in an endless loop, what keys you’ll press?\n",
    "\n",
    "An infinite loop can be terminated by pressing Ctrl+c keys."
   ]
  },
  {
   "cell_type": "markdown",
   "id": "372e6d72",
   "metadata": {},
   "source": [
    "10. How can you tell the difference between break and continue?\n",
    "\n",
    "break statement makes the program exit the while loop and start executing the code after it.\n",
    "\n",
    "continue statement makes the program to execute from the begining of the loop."
   ]
  },
  {
   "cell_type": "markdown",
   "id": "ef7a16f6",
   "metadata": {},
   "source": [
    "11. In a for loop, what is the difference between range(10), range(0, 10), and range(0, 10, 1)?\n",
    "\n",
    "range(10), range(0, 10), and range(0, 10, 1) perform the same operation i.e., produces consecutive integers from 0 to 9 in the increasing order. "
   ]
  },
  {
   "cell_type": "markdown",
   "id": "b4c4de64",
   "metadata": {},
   "source": [
    "12. Write a short program that prints the numbers 1 to 10 using a for loop. Then write an equivalent program that prints the numbers 1 to 10 using a while loop."
   ]
  },
  {
   "cell_type": "code",
   "execution_count": 4,
   "id": "0b4a01ca",
   "metadata": {},
   "outputs": [
    {
     "name": "stdout",
     "output_type": "stream",
     "text": [
      "1\n",
      "2\n",
      "3\n",
      "4\n",
      "5\n",
      "6\n",
      "7\n",
      "8\n",
      "9\n",
      "10\n"
     ]
    }
   ],
   "source": [
    "for x in range (1,11):\n",
    "    print (x)"
   ]
  },
  {
   "cell_type": "code",
   "execution_count": 7,
   "id": "6a946dd0",
   "metadata": {
    "scrolled": true
   },
   "outputs": [
    {
     "name": "stdout",
     "output_type": "stream",
     "text": [
      "1\n",
      "2\n",
      "3\n",
      "4\n",
      "5\n",
      "6\n",
      "7\n",
      "8\n",
      "9\n",
      "10\n"
     ]
    }
   ],
   "source": [
    "x=1\n",
    "while x<= 10:\n",
    "    print (x)\n",
    "    x+=1"
   ]
  },
  {
   "cell_type": "markdown",
   "id": "79596f4e",
   "metadata": {},
   "source": [
    "13. If you had a function named bacon() inside a module named spam, how would you call it after importing spam?\n",
    "\n",
    "after importing spam module, the function can be called as spam.bacon()"
   ]
  }
 ],
 "metadata": {
  "kernelspec": {
   "display_name": "Python 3 (ipykernel)",
   "language": "python",
   "name": "python3"
  },
  "language_info": {
   "codemirror_mode": {
    "name": "ipython",
    "version": 3
   },
   "file_extension": ".py",
   "mimetype": "text/x-python",
   "name": "python",
   "nbconvert_exporter": "python",
   "pygments_lexer": "ipython3",
   "version": "3.9.12"
  }
 },
 "nbformat": 4,
 "nbformat_minor": 5
}
