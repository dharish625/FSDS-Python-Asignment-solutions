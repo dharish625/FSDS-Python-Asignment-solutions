{
 "cells": [
  {
   "cell_type": "markdown",
   "id": "b48b6886",
   "metadata": {},
   "source": [
    "# Assisgnment 1 solutions"
   ]
  },
  {
   "cell_type": "markdown",
   "id": "1c9f20eb",
   "metadata": {},
   "source": [
    "1. In the below elements which of them are values or an expression? eg:- values can be integer or string and expressions will be mathematical operators.\n",
    "\n",
    "(*) ------------> This is an expression (Multiplication operator)\n",
    "\n",
    "'hello' --------> This is a value (String)\n",
    "\n",
    "-87.8 ----------> This is a value (Float)\n",
    "\n",
    "(-) ------------> This is an expression (Subtraction operator)\n",
    "\n",
    "/ --------------> This is an expression (Division operator)\n",
    "\n",
    "(+) ------------> This is an expression (Addition operator)\n",
    "\n",
    "6 --------------> This is a value (Integer)\n"
   ]
  },
  {
   "cell_type": "markdown",
   "id": "26895cb0",
   "metadata": {},
   "source": [
    "2. What is the difference between string and variable?\n",
    "\n",
    "String is a data type which represents a sequence of characters enclosed in inverted commas.\n",
    "Variable is a name used to assign or store a data type.\n",
    "\n",
    "String is immutable whereas variable can be assigned different types of data."
   ]
  },
  {
   "cell_type": "markdown",
   "id": "ae6989cb",
   "metadata": {},
   "source": [
    "3. Describe three different data types.\n",
    "\n",
    "Integers (int) are positive and negative whole numbers. Ex:- 16,-23, 0\n",
    "\n",
    "List is an ordered collection of objects enclosed in sqaure brackets. They are mutable.\n",
    "\n",
    "Tuple is an ordered collection of objects enclosed in parenthesis. They are immutable."
   ]
  },
  {
   "cell_type": "markdown",
   "id": "08fa62fb",
   "metadata": {},
   "source": [
    "4. What is an expression made up of? What do all expressions do?\n",
    "\n",
    "An expression is made up of operators and operands (values). An expression is evaluated to another value."
   ]
  },
  {
   "cell_type": "markdown",
   "id": "96e8da27",
   "metadata": {},
   "source": [
    "5. This assignment statements, like spam = 10. What is the difference between an expression and a statement?\n",
    "\n",
    "An expression is something that can be reduced to a value whereas statement is not.\n",
    "\n",
    "Ex:- print ('hello')  is a statement \n",
    "     \n",
    "     4*5 is an expression"
   ]
  },
  {
   "cell_type": "markdown",
   "id": "64ff86e8",
   "metadata": {},
   "source": [
    "6. After running the following code, what does the variable bacon contain?\n",
    "\n",
    "bacon = 22\n",
    "\n",
    "bacon + 1\n",
    "\n",
    "After running the above code, bacon = 22 (bacon+1 --> 22+1 = 23). It doesn't change the value of variable bacon."
   ]
  },
  {
   "cell_type": "markdown",
   "id": "7eb861eb",
   "metadata": {},
   "source": [
    "7. What should the values of the following two terms be?\n",
    "\n",
    "'spam' + 'spamspam' = 'spamspamspam'\n",
    "\n",
    "'spam' * 3  =  'spamspamspam'\n"
   ]
  },
  {
   "cell_type": "markdown",
   "id": "da64771d",
   "metadata": {},
   "source": [
    "8. Why is eggs a valid variable name while 100 is invalid?\n",
    "\n",
    "eggs is a valid variable name because it starts with a letter and it is not a keyword.\n",
    "\n",
    "100 is not a valid variable name because it starts with a number. In python, variable name must start either with a letter or underscore."
   ]
  },
  {
   "cell_type": "markdown",
   "id": "2e27ac8d",
   "metadata": {},
   "source": [
    "9. What three functions can be used to get the integer, floating-point number, or string version of a value?\n",
    "\n",
    "Function to get the integer version of a value is int().\n",
    "\n",
    "Function to get the float version of a value is float().\n",
    "\n",
    "Function to get the string version of a value is str()."
   ]
  },
  {
   "cell_type": "markdown",
   "id": "eec1c0d6",
   "metadata": {},
   "source": [
    "10. Why does this expression cause an error? How can you fix it?\n",
    "\n",
    "'I have eaten ' + 99 + ' burritos.'\n",
    "\n",
    "The above expression causes an error because 99 is an interger and 'I have eaten ' and ' burritos.' are strings. Concatenation is not possible among different data types.\n",
    "\n",
    "to fix it, 99 can be enclosed in inverted commas('') to make it a string and concatenate as below:\n",
    "\n",
    "'I have eaten ' + '99' + ' burritos.' which results in 'I have eaten 99 burritos.'"
   ]
  }
 ],
 "metadata": {
  "celltoolbar": "Raw Cell Format",
  "kernelspec": {
   "display_name": "Python 3 (ipykernel)",
   "language": "python",
   "name": "python3"
  },
  "language_info": {
   "codemirror_mode": {
    "name": "ipython",
    "version": 3
   },
   "file_extension": ".py",
   "mimetype": "text/x-python",
   "name": "python",
   "nbconvert_exporter": "python",
   "pygments_lexer": "ipython3",
   "version": "3.9.12"
  }
 },
 "nbformat": 4,
 "nbformat_minor": 5
}
